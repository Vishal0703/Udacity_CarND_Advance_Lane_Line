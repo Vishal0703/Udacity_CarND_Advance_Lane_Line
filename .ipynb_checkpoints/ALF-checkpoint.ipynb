{
 "cells": [
  {
   "cell_type": "code",
   "execution_count": 134,
   "metadata": {},
   "outputs": [],
   "source": [
    "import pickle\n",
    "import cv2\n",
    "import numpy as np\n",
    "import matplotlib.pyplot as plt\n",
    "import matplotlib.image as mpimg\n",
    "import os"
   ]
  },
  {
   "cell_type": "code",
   "execution_count": 137,
   "metadata": {},
   "outputs": [],
   "source": [
    "nx = 9\n",
    "ny = 6"
   ]
  },
  {
   "cell_type": "code",
   "execution_count": 146,
   "metadata": {},
   "outputs": [],
   "source": [
    "def camera_calliberate(img, cm = None, dcoeff = None, nx = nx, ny = ny):\n",
    "    imgpoints = []\n",
    "    objpoints = []\n",
    "    mesh = np.mgrid[0:nx, 0:ny].T.reshape(-1,2)\n",
    "    objp = np.hstack((mesh, np.zeros(shape = (nx*ny,1))))\n",
    "    objp = np.array(objp, dtype = np.float32)\n",
    "    retval, corners = cv2.findChessboardCorners(img,(nx,ny), None)\n",
    "    if retval == True:\n",
    "        imgpoints.append(corners)\n",
    "        objpoints.append(objp)\n",
    "        retval, cm, dcoeff, _, _ = cv2.calibrateCamera(objpoints, imgpoints, img.shape[1::-1], cm, dcoeff)\n",
    "    \n",
    "    return cm,dcoeff"
   ]
  },
  {
   "cell_type": "code",
   "execution_count": 147,
   "metadata": {},
   "outputs": [],
   "source": [
    "ilist = os.listdir(\"./camera_cal/\")"
   ]
  },
  {
   "cell_type": "code",
   "execution_count": 148,
   "metadata": {},
   "outputs": [],
   "source": [
    "cm = None\n",
    "dcoeff = None"
   ]
  },
  {
   "cell_type": "code",
   "execution_count": 149,
   "metadata": {},
   "outputs": [],
   "source": [
    "for im_name in ilist:\n",
    "    filename = \"./camera_cal/\" + im_name\n",
    "    img = mpimg.imread(filename)\n",
    "    cm, dcoeff = camera_calliberate(img, cm, dcoeff)"
   ]
  },
  {
   "cell_type": "code",
   "execution_count": 150,
   "metadata": {},
   "outputs": [
    {
     "data": {
      "text/plain": [
       "array([[  1.12774416e+03,   0.00000000e+00,   7.43569382e+02],\n",
       "       [  0.00000000e+00,   1.12816822e+03,   2.30078187e+02],\n",
       "       [  0.00000000e+00,   0.00000000e+00,   1.00000000e+00]])"
      ]
     },
     "execution_count": 150,
     "metadata": {},
     "output_type": "execute_result"
    }
   ],
   "source": [
    "cm"
   ]
  },
  {
   "cell_type": "code",
   "execution_count": 124,
   "metadata": {},
   "outputs": [],
   "source": [
    "def undistort()"
   ]
  },
  {
   "cell_type": "code",
   "execution_count": 125,
   "metadata": {},
   "outputs": [
    {
     "data": {
      "text/plain": [
       "True"
      ]
     },
     "execution_count": 125,
     "metadata": {},
     "output_type": "execute_result"
    }
   ],
   "source": [
    "retval"
   ]
  },
  {
   "cell_type": "code",
   "execution_count": 126,
   "metadata": {},
   "outputs": [],
   "source": [
    "cval = cv2.drawChessboardCorners(img, (nx,ny), corners, retval)\n"
   ]
  },
  {
   "cell_type": "code",
   "execution_count": 129,
   "metadata": {
    "scrolled": false
   },
   "outputs": [],
   "source": [
    "retval, cm, dcoeff, _, _ = cv2.calibrateCamera(objpoints, imgpoints, gray.shape[::-1], None, None)"
   ]
  },
  {
   "cell_type": "code",
   "execution_count": 130,
   "metadata": {},
   "outputs": [
    {
     "data": {
      "text/plain": [
       "array([[  1.27948483e+03,   0.00000000e+00,   6.19202617e+02],\n",
       "       [  0.00000000e+00,   1.24753916e+03,   3.45304255e+02],\n",
       "       [  0.00000000e+00,   0.00000000e+00,   1.00000000e+00]])"
      ]
     },
     "execution_count": 130,
     "metadata": {},
     "output_type": "execute_result"
    }
   ],
   "source": [
    "cm"
   ]
  },
  {
   "cell_type": "code",
   "execution_count": 106,
   "metadata": {},
   "outputs": [
    {
     "data": {
      "text/plain": [
       "(54, 1, 2)"
      ]
     },
     "execution_count": 106,
     "metadata": {},
     "output_type": "execute_result"
    }
   ],
   "source": [
    "corners.shape"
   ]
  },
  {
   "cell_type": "code",
   "execution_count": 101,
   "metadata": {},
   "outputs": [
    {
     "data": {
      "text/plain": [
       "array([[ 0.,  0.,  0.],\n",
       "       [ 1.,  0.,  0.],\n",
       "       [ 2.,  0.,  0.],\n",
       "       [ 3.,  0.,  0.],\n",
       "       [ 4.,  0.,  0.],\n",
       "       [ 5.,  0.,  0.],\n",
       "       [ 6.,  0.,  0.],\n",
       "       [ 7.,  0.,  0.],\n",
       "       [ 8.,  0.,  0.],\n",
       "       [ 0.,  1.,  0.],\n",
       "       [ 1.,  1.,  0.],\n",
       "       [ 2.,  1.,  0.],\n",
       "       [ 3.,  1.,  0.],\n",
       "       [ 4.,  1.,  0.],\n",
       "       [ 5.,  1.,  0.],\n",
       "       [ 6.,  1.,  0.],\n",
       "       [ 7.,  1.,  0.],\n",
       "       [ 8.,  1.,  0.],\n",
       "       [ 0.,  2.,  0.],\n",
       "       [ 1.,  2.,  0.],\n",
       "       [ 2.,  2.,  0.],\n",
       "       [ 3.,  2.,  0.],\n",
       "       [ 4.,  2.,  0.],\n",
       "       [ 5.,  2.,  0.],\n",
       "       [ 6.,  2.,  0.],\n",
       "       [ 7.,  2.,  0.],\n",
       "       [ 8.,  2.,  0.],\n",
       "       [ 0.,  3.,  0.],\n",
       "       [ 1.,  3.,  0.],\n",
       "       [ 2.,  3.,  0.],\n",
       "       [ 3.,  3.,  0.],\n",
       "       [ 4.,  3.,  0.],\n",
       "       [ 5.,  3.,  0.],\n",
       "       [ 6.,  3.,  0.],\n",
       "       [ 7.,  3.,  0.],\n",
       "       [ 8.,  3.,  0.],\n",
       "       [ 0.,  4.,  0.],\n",
       "       [ 1.,  4.,  0.],\n",
       "       [ 2.,  4.,  0.],\n",
       "       [ 3.,  4.,  0.],\n",
       "       [ 4.,  4.,  0.],\n",
       "       [ 5.,  4.,  0.],\n",
       "       [ 6.,  4.,  0.],\n",
       "       [ 7.,  4.,  0.],\n",
       "       [ 8.,  4.,  0.],\n",
       "       [ 0.,  5.,  0.],\n",
       "       [ 1.,  5.,  0.],\n",
       "       [ 2.,  5.,  0.],\n",
       "       [ 3.,  5.,  0.],\n",
       "       [ 4.,  5.,  0.],\n",
       "       [ 5.,  5.,  0.],\n",
       "       [ 6.,  5.,  0.],\n",
       "       [ 7.,  5.,  0.],\n",
       "       [ 8.,  5.,  0.]], dtype=float32)"
      ]
     },
     "execution_count": 101,
     "metadata": {},
     "output_type": "execute_result"
    }
   ],
   "source": []
  },
  {
   "cell_type": "code",
   "execution_count": null,
   "metadata": {},
   "outputs": [],
   "source": []
  }
 ],
 "metadata": {
  "kernelspec": {
   "display_name": "Python 3",
   "language": "python",
   "name": "python3"
  },
  "language_info": {
   "codemirror_mode": {
    "name": "ipython",
    "version": 2
   },
   "file_extension": ".py",
   "mimetype": "text/x-python",
   "name": "python",
   "nbconvert_exporter": "python",
   "pygments_lexer": "ipython2",
   "version": "2.7.12"
  }
 },
 "nbformat": 4,
 "nbformat_minor": 2
}
